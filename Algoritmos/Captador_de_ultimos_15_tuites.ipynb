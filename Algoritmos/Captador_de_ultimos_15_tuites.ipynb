{
  "nbformat": 4,
  "nbformat_minor": 0,
  "metadata": {
    "colab": {
      "name": "Cópia de Captador de ultimos 15 tuites.ipynb",
      "provenance": [],
      "collapsed_sections": []
    },
    "kernelspec": {
      "name": "python3",
      "display_name": "Python 3"
    }
  },
  "cells": [
    {
      "cell_type": "markdown",
      "metadata": {
        "id": "HUegYtffaL7R"
      },
      "source": [
        "O código abaixo salva em um arquivo .csv apenas os ultimos 15 tuites "
      ]
    },
    {
      "cell_type": "code",
      "metadata": {
        "id": "KlUEhHxW9O-R"
      },
      "source": [
        "import tweepy\n",
        "import asyncio\n",
        "\n",
        "consumer_key = \"..\"\n",
        "consumer_secret = \"..\"\n",
        "acess_token = \"..\"\n",
        "acess_token_secret = \"..\"\n",
        "\n",
        "#OAuthHandler é responsavel por autenticar o twitter \n",
        "authentication = tweepy.OAuthHandler(consumer_key,consumer_secret)\n",
        "#atribuição dos valores de tokens de acesso\n",
        "authentication.set_access_token(acess_token,acess_token_secret)\n",
        "\n",
        "api = tweepy.API(authentication)\n",
        "\n",
        "#conectando ao twitter..\n",
        "twitter = tweepy.API(authentication)\n",
        "\n",
        "#capta os ultimos 15 tuites \n",
        "results = twitter.search(q='Palavra-Buscada')\n",
        "\n",
        "#imprime apenas o nome do usuario e seu texto\n",
        "for tweet in results:\n",
        "     print(f'Usuário: {tweet.user.screen_name} - Tweet: {tweet.text}')\n"
      ],
      "execution_count": null,
      "outputs": []
    },
    {
      "cell_type": "code",
      "metadata": {
        "id": "WFRosr8E0FbU"
      },
      "source": [
        "import csv\n",
        "from google.colab import drive\n",
        "\n",
        "#Salva os dados contidos em \"results\"\n",
        "#salva apenas o nome do usuario e seu texto em um arquivo CSV\n",
        "\n",
        "with open('/content/drive/My Drive/database/ultimos_15_tuites.csv', 'w', newline='') as file:\n",
        "    \n",
        "    writer = csv.writer(file)\n",
        "    \n",
        "    writer.writerow([\"Nome\", \"Texto\"])\n",
        "    for tweet in results:\n",
        "         writer.writerow([tweet.user.screen_name,tweet.text])"
      ],
      "execution_count": null,
      "outputs": []
    },
    {
      "cell_type": "code",
      "metadata": {
        "id": "9Nl5m9-n0HSb"
      },
      "source": [
        ""
      ],
      "execution_count": null,
      "outputs": []
    }
  ]
}